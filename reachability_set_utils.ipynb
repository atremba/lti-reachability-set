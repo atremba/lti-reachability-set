{
 "cells": [
  {
   "cell_type": "markdown",
   "metadata": {},
   "source": [
    "# Functions for calculating reachability set support function\n",
    "Andrey Tremba, atremba@ipu.ru  \n",
    "17.12.2021 (update)\n",
    "\n",
    "\n",
    "```python\n",
    "# 'ipynb as module' loader\n",
    "import ipynb_loader\n",
    "# import ipynb itself\n",
    "import reachability_set_utils as reach_set\n",
    "\n",
    "FIXME\n",
    "\n",
    "```\n",
    "\n",
    "see also examples:\n",
    " - [example-2d.ipynb](example-2d.ipynb) - 2D reachability sets and control"
   ]
  },
  {
   "cell_type": "code",
   "execution_count": 2,
   "metadata": {},
   "outputs": [],
   "source": [
    "import numpy as np\n",
    "import scipy.integrate # integration"
   ]
  },
  {
   "cell_type": "code",
   "execution_count": 3,
   "metadata": {},
   "outputs": [],
   "source": [
    "def instant_universal_control_s(s, p, exp_func, sup_func_u, B=None):\n",
    "    \"\"\"\n",
    "    Calculate optimal control hat(u)(s) element for reaching reachability set M(T).\n",
    "    Real control shall be u(t) = hat(u)(T - t), t in [0, T]\n",
    "    \n",
    "    s - time instant\n",
    "    p - vector (direction)\n",
    "    exp_func - function calculating exp(A s) with signature E = exp_func(s)\n",
    "    sup_func_u - function calculating support element a_U(p) with signature\n",
    "        a = sup_func_u(p)\n",
    "    \n",
    "    17.01.2022 - public release\n",
    "    Andrey Tremba\n",
    "    \"\"\"\n",
    "    e_As = exp_func(s)\n",
    "    if B is None:\n",
    "        B = np.eye(len(p))\n",
    "    q = B.T @ e_As.T @ p\n",
    "    sup_element_u = sup_func_u(q)\n",
    "    \n",
    "    return sup_element_u\n",
    "\n",
    "def instant_universal_sup_element(s, p, exp_func, sup_func_u):\n",
    "    \"\"\"\n",
    "    Calculate support element for reachability set M given \n",
    "        matrix exponential e^{A s} B and support function / element of control set U\n",
    "\n",
    "    s - time instant\n",
    "    p - vector (direction)\n",
    "    exp_func - function calculating exp(A s) with signature E = exp_func(s)\n",
    "    sup_func_u - function calculating support element a_U(p) with signature\n",
    "        a = sup_func_u(p)\n",
    "\n",
    "    17.01.2022 - public release\n",
    "    Andrey Tremba\n",
    "    \"\"\"\n",
    "    e_AsB = exp_func(s)\n",
    "    q = e_AsB.T @ p\n",
    "    sup_element_u = sup_func_u(q)\n",
    "    sup_element_m = e_AsB.dot(sup_element_u) # operator @ fails for vector e_AsB and scalar u \n",
    "\n",
    "    sup_value_num = sup_element_m @ p\n",
    "    \n",
    "    return sup_element_m\n",
    "\n",
    "def get_reachability_set_support(p, T, exp_func, sup_func_u, B=None, \n",
    "                                 options={'quad_vec':{}, 'int_type':'vector'}):\n",
    "    \"\"\"\n",
    "    Calculate support element of reachability set to instant T\n",
    "    \n",
    "    p - vector (direction)\n",
    "    T - final time\n",
    "    exp_func - function calculating exp(A s) with signature E = exp_func(s)\n",
    "    sup_func_u - function calculating support element a_U(p) with signature\n",
    "        a = sup_func_u(p)\n",
    "    B - (optionally) input-forming matrix in x' = A x + B u, by default identity \n",
    "        matrix\n",
    "    options - dictionary with data, containing at keys:\n",
    "        'quad_vec' - dictionary with options for vector integration utility quad_vec\n",
    "        'int_type' - RESEREVED. string with integration type. Possible values are:\n",
    "            'vector' - use vector intergation utility\n",
    "            'componentwise' - integrate each component separately\n",
    "            \n",
    "    Returns a support element\n",
    "\n",
    "    17.01.2022 - public release\n",
    "    Andrey Tremba\n",
    "    \n",
    "    TODO: check options dict to contain quad_vec options.\n",
    "    \"\"\"\n",
    "    if B is not None: # empty B means there is no B matrix in system\n",
    "        # setting it to eye(n) will harm performance (and its size is unknown, btw)\n",
    "        local_exp_func = lambda s : exp_func(s).dot(B)\n",
    "    else:\n",
    "        local_exp_func = exp_func\n",
    "\n",
    "    # try to evaluate support element at one instant\n",
    "    tmp_sup_element = instant_universal_sup_element(T, p, local_exp_func, sup_func_u)\n",
    "    \n",
    "    int_func = lambda s : instant_universal_sup_element(s, p, local_exp_func, sup_func_u)\n",
    "    \n",
    "    if options['int_type'] == 'componentwise':\n",
    "        integral = np.array([scipy.integrate.quad(\n",
    "            lambda s : int_func(s)[k], 0, T, epsabs=1e-20, epsrel=1e-10, limit=2000)[0] # , epsabs=1e-14, epsrel=1e-18, limit=2000\n",
    "                for k in range(len(tmp_sup_element))])\n",
    "    elif options['int_type'] == 'vector':\n",
    "        integral, quality = scipy.integrate.quad_vec(int_func, 0, T, epsabs=1e-16, epsrel=1e-10, norm='max', \n",
    "                                                    quadrature='gk15')\n",
    "    else:\n",
    "        raise('Unknown \"int_type\" option.');\n",
    "\n",
    "    return integral"
   ]
  },
  {
   "cell_type": "code",
   "execution_count": 3,
   "metadata": {
    "scrolled": true
   },
   "outputs": [],
   "source": [
    "# import numpy as np\n",
    "\n",
    "# T = 2\n",
    "# sigma = 0.5\n",
    "\n",
    "# def expm3_num(t, sigma=1):\n",
    "#     \"\"\"Matrix exponential exp(A t) of Jordan block with given eigenvalue -sigma\"\"\"\n",
    "#     return np.exp(-sigma * t) * np.array([[1, t, t**2/2], [0, 1, t], [0, 0, 1]])\n",
    "\n",
    "# exp_func_A = lambda t : expm3_num(t, sigma)\n",
    "# sup_func_u = lambda q : 10 * q / np.sqrt(np.sum(q**2))\n",
    "# reachability_support_u_ball = lambda p, T : \\\n",
    "#     get_reachability_set_support(p, T, exp_func_A, sup_func_u)\n",
    "\n",
    "# p = np.random.randn(3)\n",
    "# print(f'p = {p}')\n",
    "# exp_func_u_ball = reachability_support_u_ball(p, T)\n",
    "\n",
    "# print(exp_func_u_ball)"
   ]
  },
  {
   "cell_type": "code",
   "execution_count": 4,
   "metadata": {},
   "outputs": [],
   "source": [
    "# import time\n",
    "\n",
    "# # utitilites in ipynb files\n",
    "# import ipynb_loader # loader\n",
    "# # import image_utils # equal 3d axis\n",
    "# import quasi_uniform_3d as qu3d # sphere point sampling\n",
    "# # import polynomial_utils as PolyU # analysis and integration of polynomials\n",
    "# import convex_utils # maximum radius, etc"
   ]
  },
  {
   "cell_type": "code",
   "execution_count": 5,
   "metadata": {},
   "outputs": [],
   "source": [
    "# N = 20 # N = 60\n",
    "# T = 2\n",
    "\n",
    "# dir_points = qu3d.generate_sphere_uniform_grid(N) # quasi-uniform grid\n",
    "# print(f'Grid has {len(dir_points)} points')\n",
    "\n",
    "\n",
    "# t_begin = time.perf_counter()\n",
    "# supp_points_ball = np.array([reachability_support_u_ball(p, T) for p in dir_points])\n",
    "# t_end = time.perf_counter()\n",
    "\n",
    "# print(f'Integration of universal function for ball: {t_end - t_begin} seconds elapsed')"
   ]
  },
  {
   "cell_type": "code",
   "execution_count": 6,
   "metadata": {
    "scrolled": false
   },
   "outputs": [],
   "source": [
    "# RR_ball = convex_utils.calculate_radiuses(dir_points, supp_points_ball)\n",
    "# print(f'Bounding ball radius and its lower bound for ball control : {RR_ball[:2]},\\n'\n",
    "#       f'  difference = {RR_ball[0] - RR_ball[1]}')"
   ]
  },
  {
   "cell_type": "code",
   "execution_count": 7,
   "metadata": {},
   "outputs": [],
   "source": [
    "# # exp_func_A_segment = lambda t : expm3_num(t, sigma)\n",
    "# sup_func_u_segment = lambda q : np.sign(q)\n",
    "\n",
    "# B = np.array([0, 0, 1])\n",
    "# reachability_support_u_segment_componentwise = lambda p, T : \\\n",
    "#     get_reachability_set_support(p, T,\n",
    "#                                  exp_func_A,\n",
    "#                                  sup_func_u_segment, \n",
    "#                                  B, options={'int_type' : 'componentwise'})\n",
    "\n",
    "# reachability_support_u_segment_vector = lambda p, T : \\\n",
    "#     get_reachability_set_support(p, T,\n",
    "#                                  exp_func_A,\n",
    "#                                  sup_func_u_segment,\n",
    "#                                  B, options={'int_type' : 'vector'})\n"
   ]
  },
  {
   "cell_type": "code",
   "execution_count": 8,
   "metadata": {
    "scrolled": true
   },
   "outputs": [],
   "source": [
    "# t_begin = time.perf_counter()\n",
    "# supp_points_segment_componentwise = np.array([reachability_support_u_segment_componentwise(p, T) for p in dir_points])\n",
    "# t_end = time.perf_counter()\n",
    "\n",
    "# print(f'Segment control, componentwise integration: {t_end - t_begin} seconds elapsed');"
   ]
  },
  {
   "cell_type": "code",
   "execution_count": 9,
   "metadata": {},
   "outputs": [],
   "source": [
    "# t_begin = time.perf_counter()\n",
    "# supp_points_segment = np.array([reachability_support_u_segment_vector(p, T) for p in dir_points])\n",
    "# t_end = time.perf_counter()\n",
    "\n",
    "# print(f'Segment control, vector integration: {t_end - t_begin} seconds elapsed');\n",
    "\n",
    "# # np.testing.assert_allclose(supp_points_segment_componentwise, supp_points_segment)\n",
    "# print(f'Max abs difference between componentwise and vector integration is '\n",
    "#       f'{np.max(supp_points_segment_componentwise - supp_points_segment)}')"
   ]
  },
  {
   "cell_type": "code",
   "execution_count": 10,
   "metadata": {},
   "outputs": [],
   "source": [
    "# RR_segment = calculate_radiuses(dir_points, supp_points_segment)\n",
    "\n",
    "# print(f'Bounding ball radius and its lower bound for segment control : {RR_segment[:2]},\\n'\n",
    "#       f'  difference = {RR_segment[0] - RR_segment[1]}')"
   ]
  },
  {
   "cell_type": "code",
   "execution_count": 11,
   "metadata": {},
   "outputs": [],
   "source": [
    "# supp_points_joint = supp_points_ball + supp_points_segment\n",
    "\n",
    "# RR_joint = calculate_radiuses(dir_points, supp_points_joint)\n",
    "\n",
    "# print(f'Bounding ball radius and its lower bound for joint control (segment + ball) : {RR_joint[:2]},\\n'\n",
    "#       f'  difference = {RR_joint[0] - RR_joint[1]}')\n",
    "\n",
    "# B = np.array([0, 0, 1])\n",
    "# sup_func_Bu_segment = lambda q_full : B * sup_func_u_segment(B.T @ q_full)"
   ]
  },
  {
   "cell_type": "code",
   "execution_count": 12,
   "metadata": {},
   "outputs": [],
   "source": [
    "# reachability_support_u_joint = lambda p, T : \\\n",
    "#     get_reachability_set_support(p, T,\n",
    "#                                  exp_func_A, \n",
    "#                                  lambda q : sup_func_Bu_segment(q) + sup_func_u(q), \n",
    "#                                  options={'int_type' : 'vector'})"
   ]
  },
  {
   "cell_type": "code",
   "execution_count": 13,
   "metadata": {},
   "outputs": [],
   "source": [
    "# t_begin = time.perf_counter()\n",
    "# supp_points_joint_2 = np.array([reachability_support_u_joint(p, T) for p in dir_points])\n",
    "# t_end = time.perf_counter()\n",
    "\n",
    "# print(f'Joint control, calculated directly, vector integration: {t_end - t_begin} seconds elapsed');\n",
    "\n",
    "# print(f'Max abs difference between sum of support points and explicit calculation is '\n",
    "#       f'{np.max(supp_points_joint - supp_points_joint_2)}')"
   ]
  },
  {
   "cell_type": "code",
   "execution_count": 14,
   "metadata": {},
   "outputs": [],
   "source": [
    "# RR_joint_2 = calculate_radiuses(dir_points, supp_points_joint_2)\n",
    "\n",
    "# print(f'{np.abs(RR_joint[0] - RR_joint_2[0])}, {np.abs(RR_joint[1] - RR_joint_2[1])}')\n"
   ]
  },
  {
   "cell_type": "code",
   "execution_count": null,
   "metadata": {},
   "outputs": [],
   "source": []
  }
 ],
 "metadata": {
  "kernelspec": {
   "display_name": "Python 3",
   "language": "python",
   "name": "python3"
  },
  "language_info": {
   "codemirror_mode": {
    "name": "ipython",
    "version": 3
   },
   "file_extension": ".py",
   "mimetype": "text/x-python",
   "name": "python",
   "nbconvert_exporter": "python",
   "pygments_lexer": "ipython3",
   "version": "3.8.5"
  }
 },
 "nbformat": 4,
 "nbformat_minor": 4
}
